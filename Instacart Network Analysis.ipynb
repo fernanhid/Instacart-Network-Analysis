{
 "cells": [
  {
   "cell_type": "markdown",
   "metadata": {},
   "source": [
    "<img src=\"labori_labs.png\" style=\"float: left; margin: 50px; height: 70px\">\n",
    "\n",
    "# Instacart Network Analysis\n",
    "--- \n",
    "\n",
    "<br>\n",
    "<br>\n",
    "<br>\n",
    "<br>\n",
    "\n",
    "\n",
    "- <b>Business Problem:</b> <br>\n",
    "Instacart wants to understand which of products are bought together by their repeat users to more intelligently drive their recommendations and offers.\n",
    "\n",
    "\n",
    "\n",
    "- <b>Approach:</b> <br>\n",
    "Network analysis was used to understand how each product relates to one another. This allows us to understand which products are most \"well connected\" and which group types exist. <br>\n",
    "In this graph each product is a node and every time two products were purchased in an order counts as a weight in the edge.\n",
    "\n",
    "- <b>Data:</b> <br>\n",
    "https://www.kaggle.com/c/instacart-market-basket-analysis\n",
    "\n",
    "### Takeaways, Recommendations, Next Steps\n",
    "--- \n",
    "\n",
    "<b>Takeaways</b> <br>\n",
    "- Instacart repeat users buy mostly produce, with 76% of all orders having produce is them\n",
    "- Looking at products, Bananas both single or in bag are the most well connected products by the number of degrees. Bananas alone connect with 40% of all other products.\n",
    "- Looking at products that are bought together by department, produce is most bought with itself and with egg dairy\n",
    "- 79% of all users bought bananas and they have higher order size (~ 13 products per order) than users that did not buy bananas (~9 products per order)\n",
    "\n",
    "<b>Recommendations</b> <br>\n",
    "- For new users, the advantages of buying produce from Instacart can be displayed in ads or in the app as first recommended.\n",
    "- For current users to stay in the platform, the price sensitivity of produce have to be kept into account. Produce is the reason they stay and buy other products.\n",
    "- Realize the importance of bananas in the Instacart platform in order to run promotions or keep the price low.\n",
    "\n",
    "<b>Next Steps</b> <br>\n",
    "- Get prices for each product in order to see which departments earn more money\n",
    "- Get more data to compare new customers vs returning customers, most data here was returning customers\n"
   ]
  },
  {
   "cell_type": "code",
   "execution_count": null,
   "metadata": {},
   "outputs": [],
   "source": []
  },
  {
   "cell_type": "code",
   "execution_count": 99,
   "metadata": {},
   "outputs": [],
   "source": [
    "import pandas as pd\n",
    "from itertools import combinations\n",
    "from collections import Counter\n",
    "import networkx as nx\n",
    "import matplotlib.pyplot as plt\n",
    "import dzcnapy_plotlib as dzcnapy\n",
    "from scipy import stats\n",
    "import seaborn as sns\n",
    "\n",
    "%matplotlib inline"
   ]
  },
  {
   "cell_type": "markdown",
   "metadata": {},
   "source": [
    "### a. Load & Summary Statistics\n",
    "--- "
   ]
  },
  {
   "cell_type": "code",
   "execution_count": 2,
   "metadata": {},
   "outputs": [],
   "source": [
    "instacart_df = pd.read_csv('instacart.csv').iloc[:,1:]"
   ]
  },
  {
   "cell_type": "code",
   "execution_count": 3,
   "metadata": {},
   "outputs": [
    {
     "data": {
      "text/html": [
       "<div>\n",
       "<style scoped>\n",
       "    .dataframe tbody tr th:only-of-type {\n",
       "        vertical-align: middle;\n",
       "    }\n",
       "\n",
       "    .dataframe tbody tr th {\n",
       "        vertical-align: top;\n",
       "    }\n",
       "\n",
       "    .dataframe thead th {\n",
       "        text-align: right;\n",
       "    }\n",
       "</style>\n",
       "<table border=\"1\" class=\"dataframe\">\n",
       "  <thead>\n",
       "    <tr style=\"text-align: right;\">\n",
       "      <th></th>\n",
       "      <th>order_id</th>\n",
       "      <th>user_id</th>\n",
       "      <th>add_to_cart_order</th>\n",
       "      <th>product_id</th>\n",
       "      <th>product_name</th>\n",
       "      <th>aisle_id</th>\n",
       "      <th>aisle</th>\n",
       "      <th>department</th>\n",
       "      <th>order_hour_of_day</th>\n",
       "      <th>days_since_prior_order</th>\n",
       "      <th>order_dow</th>\n",
       "      <th>reordered</th>\n",
       "    </tr>\n",
       "  </thead>\n",
       "  <tbody>\n",
       "    <tr>\n",
       "      <th>0</th>\n",
       "      <td>23391</td>\n",
       "      <td>7</td>\n",
       "      <td>1</td>\n",
       "      <td>13198</td>\n",
       "      <td>85% Lean Ground Beef</td>\n",
       "      <td>122</td>\n",
       "      <td>meat counter</td>\n",
       "      <td>meat seafood</td>\n",
       "      <td>10</td>\n",
       "      <td>28.0</td>\n",
       "      <td>0</td>\n",
       "      <td>1</td>\n",
       "    </tr>\n",
       "    <tr>\n",
       "      <th>1</th>\n",
       "      <td>23391</td>\n",
       "      <td>7</td>\n",
       "      <td>2</td>\n",
       "      <td>42803</td>\n",
       "      <td>Organic Apple Slices</td>\n",
       "      <td>50</td>\n",
       "      <td>fruit vegetable snacks</td>\n",
       "      <td>snacks</td>\n",
       "      <td>10</td>\n",
       "      <td>28.0</td>\n",
       "      <td>0</td>\n",
       "      <td>1</td>\n",
       "    </tr>\n",
       "  </tbody>\n",
       "</table>\n",
       "</div>"
      ],
      "text/plain": [
       "   order_id  user_id  add_to_cart_order  product_id          product_name  \\\n",
       "0     23391        7                  1       13198  85% Lean Ground Beef   \n",
       "1     23391        7                  2       42803  Organic Apple Slices   \n",
       "\n",
       "   aisle_id                   aisle    department  order_hour_of_day  \\\n",
       "0       122            meat counter  meat seafood                 10   \n",
       "1        50  fruit vegetable snacks        snacks                 10   \n",
       "\n",
       "   days_since_prior_order  order_dow  reordered  \n",
       "0                    28.0          0          1  \n",
       "1                    28.0          0          1  "
      ]
     },
     "execution_count": 3,
     "metadata": {},
     "output_type": "execute_result"
    }
   ],
   "source": [
    "instacart_df.head(2)"
   ]
  },
  {
   "cell_type": "code",
   "execution_count": 4,
   "metadata": {},
   "outputs": [
    {
     "data": {
      "text/html": [
       "<div>\n",
       "<style scoped>\n",
       "    .dataframe tbody tr th:only-of-type {\n",
       "        vertical-align: middle;\n",
       "    }\n",
       "\n",
       "    .dataframe tbody tr th {\n",
       "        vertical-align: top;\n",
       "    }\n",
       "\n",
       "    .dataframe thead th {\n",
       "        text-align: right;\n",
       "    }\n",
       "</style>\n",
       "<table border=\"1\" class=\"dataframe\">\n",
       "  <thead>\n",
       "    <tr style=\"text-align: right;\">\n",
       "      <th></th>\n",
       "      <th>order_id</th>\n",
       "      <th>user_id</th>\n",
       "      <th>add_to_cart_order</th>\n",
       "      <th>product_id</th>\n",
       "      <th>aisle_id</th>\n",
       "      <th>order_hour_of_day</th>\n",
       "      <th>days_since_prior_order</th>\n",
       "      <th>order_dow</th>\n",
       "      <th>reordered</th>\n",
       "    </tr>\n",
       "  </thead>\n",
       "  <tbody>\n",
       "    <tr>\n",
       "      <th>count</th>\n",
       "      <td>500000.000000</td>\n",
       "      <td>500000.000000</td>\n",
       "      <td>500000.000000</td>\n",
       "      <td>500000.000000</td>\n",
       "      <td>500000.000000</td>\n",
       "      <td>500000.000000</td>\n",
       "      <td>468026.000000</td>\n",
       "      <td>500000.000000</td>\n",
       "      <td>500000.000000</td>\n",
       "    </tr>\n",
       "    <tr>\n",
       "      <th>mean</th>\n",
       "      <td>26400.108476</td>\n",
       "      <td>103246.307530</td>\n",
       "      <td>8.348422</td>\n",
       "      <td>25564.192186</td>\n",
       "      <td>71.207052</td>\n",
       "      <td>13.430762</td>\n",
       "      <td>11.001669</td>\n",
       "      <td>2.737464</td>\n",
       "      <td>0.590246</td>\n",
       "    </tr>\n",
       "    <tr>\n",
       "      <th>std</th>\n",
       "      <td>15262.554968</td>\n",
       "      <td>59440.331665</td>\n",
       "      <td>7.115773</td>\n",
       "      <td>14100.724459</td>\n",
       "      <td>38.206874</td>\n",
       "      <td>4.264669</td>\n",
       "      <td>8.675150</td>\n",
       "      <td>2.085868</td>\n",
       "      <td>0.491789</td>\n",
       "    </tr>\n",
       "    <tr>\n",
       "      <th>min</th>\n",
       "      <td>2.000000</td>\n",
       "      <td>7.000000</td>\n",
       "      <td>1.000000</td>\n",
       "      <td>1.000000</td>\n",
       "      <td>1.000000</td>\n",
       "      <td>0.000000</td>\n",
       "      <td>0.000000</td>\n",
       "      <td>0.000000</td>\n",
       "      <td>0.000000</td>\n",
       "    </tr>\n",
       "    <tr>\n",
       "      <th>25%</th>\n",
       "      <td>13208.000000</td>\n",
       "      <td>51748.000000</td>\n",
       "      <td>3.000000</td>\n",
       "      <td>13514.000000</td>\n",
       "      <td>31.000000</td>\n",
       "      <td>10.000000</td>\n",
       "      <td>5.000000</td>\n",
       "      <td>1.000000</td>\n",
       "      <td>0.000000</td>\n",
       "    </tr>\n",
       "    <tr>\n",
       "      <th>50%</th>\n",
       "      <td>26350.000000</td>\n",
       "      <td>103035.000000</td>\n",
       "      <td>6.000000</td>\n",
       "      <td>25246.000000</td>\n",
       "      <td>83.000000</td>\n",
       "      <td>13.000000</td>\n",
       "      <td>8.000000</td>\n",
       "      <td>3.000000</td>\n",
       "      <td>1.000000</td>\n",
       "    </tr>\n",
       "    <tr>\n",
       "      <th>75%</th>\n",
       "      <td>39561.000000</td>\n",
       "      <td>155185.000000</td>\n",
       "      <td>11.000000</td>\n",
       "      <td>37849.000000</td>\n",
       "      <td>107.000000</td>\n",
       "      <td>16.000000</td>\n",
       "      <td>15.000000</td>\n",
       "      <td>5.000000</td>\n",
       "      <td>1.000000</td>\n",
       "    </tr>\n",
       "    <tr>\n",
       "      <th>max</th>\n",
       "      <td>52883.000000</td>\n",
       "      <td>206208.000000</td>\n",
       "      <td>92.000000</td>\n",
       "      <td>49688.000000</td>\n",
       "      <td>134.000000</td>\n",
       "      <td>23.000000</td>\n",
       "      <td>30.000000</td>\n",
       "      <td>6.000000</td>\n",
       "      <td>1.000000</td>\n",
       "    </tr>\n",
       "  </tbody>\n",
       "</table>\n",
       "</div>"
      ],
      "text/plain": [
       "            order_id        user_id  add_to_cart_order     product_id  \\\n",
       "count  500000.000000  500000.000000      500000.000000  500000.000000   \n",
       "mean    26400.108476  103246.307530           8.348422   25564.192186   \n",
       "std     15262.554968   59440.331665           7.115773   14100.724459   \n",
       "min         2.000000       7.000000           1.000000       1.000000   \n",
       "25%     13208.000000   51748.000000           3.000000   13514.000000   \n",
       "50%     26350.000000  103035.000000           6.000000   25246.000000   \n",
       "75%     39561.000000  155185.000000          11.000000   37849.000000   \n",
       "max     52883.000000  206208.000000          92.000000   49688.000000   \n",
       "\n",
       "            aisle_id  order_hour_of_day  days_since_prior_order  \\\n",
       "count  500000.000000      500000.000000           468026.000000   \n",
       "mean       71.207052          13.430762               11.001669   \n",
       "std        38.206874           4.264669                8.675150   \n",
       "min         1.000000           0.000000                0.000000   \n",
       "25%        31.000000          10.000000                5.000000   \n",
       "50%        83.000000          13.000000                8.000000   \n",
       "75%       107.000000          16.000000               15.000000   \n",
       "max       134.000000          23.000000               30.000000   \n",
       "\n",
       "           order_dow      reordered  \n",
       "count  500000.000000  500000.000000  \n",
       "mean        2.737464       0.590246  \n",
       "std         2.085868       0.491789  \n",
       "min         0.000000       0.000000  \n",
       "25%         1.000000       0.000000  \n",
       "50%         3.000000       1.000000  \n",
       "75%         5.000000       1.000000  \n",
       "max         6.000000       1.000000  "
      ]
     },
     "execution_count": 4,
     "metadata": {},
     "output_type": "execute_result"
    }
   ],
   "source": [
    "instacart_df.describe()"
   ]
  },
  {
   "cell_type": "code",
   "execution_count": 5,
   "metadata": {},
   "outputs": [
    {
     "name": "stdout",
     "output_type": "stream",
     "text": [
      "<class 'pandas.core.frame.DataFrame'>\n",
      "RangeIndex: 500000 entries, 0 to 499999\n",
      "Data columns (total 12 columns):\n",
      " #   Column                  Non-Null Count   Dtype  \n",
      "---  ------                  --------------   -----  \n",
      " 0   order_id                500000 non-null  int64  \n",
      " 1   user_id                 500000 non-null  int64  \n",
      " 2   add_to_cart_order       500000 non-null  int64  \n",
      " 3   product_id              500000 non-null  int64  \n",
      " 4   product_name            500000 non-null  object \n",
      " 5   aisle_id                500000 non-null  int64  \n",
      " 6   aisle                   500000 non-null  object \n",
      " 7   department              500000 non-null  object \n",
      " 8   order_hour_of_day       500000 non-null  int64  \n",
      " 9   days_since_prior_order  468026 non-null  float64\n",
      " 10  order_dow               500000 non-null  int64  \n",
      " 11  reordered               500000 non-null  int64  \n",
      "dtypes: float64(1), int64(8), object(3)\n",
      "memory usage: 45.8+ MB\n"
     ]
    }
   ],
   "source": [
    "instacart_df.info()"
   ]
  },
  {
   "cell_type": "markdown",
   "metadata": {},
   "source": [
    "We will also create a new dataframe for repeat users"
   ]
  },
  {
   "cell_type": "code",
   "execution_count": 6,
   "metadata": {},
   "outputs": [],
   "source": [
    "reorder_user_id = instacart_df.query(\"reordered == 1\").user_id.unique()\n",
    "reorder_df = instacart_df[instacart_df.user_id.isin(reorder_user_id)]"
   ]
  },
  {
   "cell_type": "code",
   "execution_count": 7,
   "metadata": {},
   "outputs": [
    {
     "name": "stdout",
     "output_type": "stream",
     "text": [
      "Total rows of all data: 500000\n",
      "Total rows of reordered data: 462874\n",
      "Loss of: 7.43 % of rows\n"
     ]
    }
   ],
   "source": [
    "print('Total rows of all data:', instacart_df.shape[0])\n",
    "print('Total rows of reordered data:', reorder_df.shape[0])\n",
    "print('Loss of:' ,round((1 - (reorder_df.shape[0]/instacart_df.shape[0])) * 100, 2),'% of rows' )"
   ]
  },
  {
   "cell_type": "code",
   "execution_count": null,
   "metadata": {},
   "outputs": [],
   "source": [
    "\n",
    "\n",
    "\n",
    "\n"
   ]
  },
  {
   "cell_type": "markdown",
   "metadata": {},
   "source": [
    "### B. Top Products\n",
    "--- \n",
    "\n",
    "The products that are most sold are ofter the ones that are most connected. So before we see the most connected products we will see the most sold products, deportments, and aisle."
   ]
  },
  {
   "cell_type": "code",
   "execution_count": 8,
   "metadata": {},
   "outputs": [
    {
     "data": {
      "image/png": "[encoded data removed]",
      "text/plain": [
       "<Figure size 1440x432 with 3 Axes>"
      ]
     },
     "metadata": {
      "needs_background": "light"
     },
     "output_type": "display_data"
    }
   ],
   "source": [
    "fig, ax = plt.subplots(ncols=3, figsize=(20,6))\n",
    "\n",
    "reorder_df.product_name.value_counts().head(10).plot(kind = 'bar', ax = ax[0])\n",
    "ax[0].title.set_text('Top Products by Items Sold')\n",
    "\n",
    "reorder_df.department.value_counts().head(10).plot(kind = 'bar', ax = ax[1], color = 'grey')\n",
    "ax[1].title.set_text('Top Department by Items Sold')\n",
    "\n",
    "(reorder_df.aisle.value_counts()/reorder_df.shape[0]).head(10).plot(kind = 'bar', ax = ax[2], color = 'red')\n",
    "ax[2].title.set_text('Top Aisle by Items Sold')"
   ]
  },
  {
   "cell_type": "markdown",
   "metadata": {},
   "source": [
    "- Bananas and Bag of Organic Bananas are the biggest sellers"
   ]
  },
  {
   "cell_type": "markdown",
   "metadata": {},
   "source": [
    "- Fresh fruits, fresh vegetables have almost double the percentage as other aisles\n"
   ]
  },
  {
   "cell_type": "markdown",
   "metadata": {},
   "source": [
    "- Produce accounts for almost 30% of all sales\n",
    "- Followed by Dairy Eggs with 16%\n",
    "- Produce and Dairy Eggs account for almost 50% of all sales"
   ]
  },
  {
   "cell_type": "code",
   "execution_count": null,
   "metadata": {},
   "outputs": [],
   "source": []
  },
  {
   "cell_type": "markdown",
   "metadata": {},
   "source": [
    "### B.Network Analysis\n",
    "--- \n",
    "\n",
    "Steps:\n",
    "- Create a network graph with instacart data\n",
    "- See the density of the graph, to see how linked the product are\n",
    "- The edge distribution, to see how many products are highly connected\n",
    "- Find the most connected product"
   ]
  },
  {
   "cell_type": "markdown",
   "metadata": {},
   "source": [
    "<b> Turning products into top binary combinations"
   ]
  },
  {
   "cell_type": "code",
   "execution_count": 9,
   "metadata": {},
   "outputs": [],
   "source": [
    "products_by_order = reorder_df.query(\"reordered == 1\").groupby('order_id')['product_name'].apply(list)\n",
    "product_combinations = [[set(comb) for comb in combinations(i, 2)] for i in products_by_order]\n",
    "joint_combinations = ['|'.join(sorted(list(item))) for sublist in product_combinations for item in sublist]\n",
    "product_combinations = Counter(joint_combinations)"
   ]
  },
  {
   "cell_type": "code",
   "execution_count": 10,
   "metadata": {},
   "outputs": [
    {
     "data": {
      "text/plain": [
       "[('Bag of Organic Bananas|Organic Hass Avocado', 760),\n",
       " ('Bag of Organic Bananas|Organic Strawberries', 695),\n",
       " ('Banana|Organic Strawberries', 678),\n",
       " ('Banana|Organic Avocado', 636),\n",
       " ('Banana|Organic Baby Spinach', 627),\n",
       " ('Bag of Organic Bananas|Organic Baby Spinach', 612),\n",
       " ('Bag of Organic Bananas|Organic Raspberries', 503),\n",
       " ('Organic Hass Avocado|Organic Strawberries', 463),\n",
       " ('Banana|Strawberries', 447),\n",
       " ('Banana|Large Lemon', 433)]"
      ]
     },
     "execution_count": 10,
     "metadata": {},
     "output_type": "execute_result"
    }
   ],
   "source": [
    "product_combinations.most_common(10)"
   ]
  },
  {
   "cell_type": "markdown",
   "metadata": {},
   "source": [
    "- The top binary combinations are bag of organic bananas & organic has avocado\n",
    "- The top combinations are all produce"
   ]
  },
  {
   "cell_type": "code",
   "execution_count": null,
   "metadata": {},
   "outputs": [],
   "source": []
  },
  {
   "cell_type": "markdown",
   "metadata": {},
   "source": [
    "<b> Creating a Network Graph"
   ]
  },
  {
   "cell_type": "code",
   "execution_count": 11,
   "metadata": {},
   "outputs": [],
   "source": [
    "# instantiating the network\n",
    "insta_nx = nx.Graph()\n",
    "\n",
    "# Adding nodes\n",
    "nodes = [item for sublist in [i.split('|') for i in product_combinations.keys()] for item in sublist]\n",
    "insta_nx.add_nodes_from(nodes)\n",
    "\n",
    "# edges \n",
    "insta_nx.add_edges_from([set(i.split('|')) for i in list(set(product_combinations.keys()))])\n",
    "\n",
    "#weights\n",
    "for i in product_combinations:\n",
    "    \n",
    "    first,second = i.split('|')\n",
    "    insta_nx[first][second]['weight'] = product_combinations[i]\n",
    "    \n",
    "# set aisle as an attribute for the network    \n",
    "name_aisle = reorder_df[['product_name',\n",
    "                           'aisle']].drop_duplicates().set_index('product_name').to_dict()['aisle']\n",
    "nx.set_node_attributes(insta_nx, name_aisle, name='aisle')\n",
    "\n",
    "# set department as an attribute for the network    \n",
    "name_department = reorder_df[['product_name', \n",
    "                           'department']].drop_duplicates().set_index('product_name').to_dict()['department']\n",
    "nx.set_node_attributes(insta_nx, name_department, name='department')    "
   ]
  },
  {
   "cell_type": "code",
   "execution_count": null,
   "metadata": {},
   "outputs": [],
   "source": []
  },
  {
   "cell_type": "markdown",
   "metadata": {},
   "source": [
    "<b> Network Density <br> </b>\n",
    "How many connections exist out of all possible connections?    "
   ]
  },
  {
   "cell_type": "code",
   "execution_count": 12,
   "metadata": {},
   "outputs": [],
   "source": [
    "edges_num = nx.number_of_edges(insta_nx)\n",
    "edges_not_connected = len(list(nx.non_edges(insta_nx)))"
   ]
  },
  {
   "cell_type": "code",
   "execution_count": 16,
   "metadata": {},
   "outputs": [
    {
     "name": "stdout",
     "output_type": "stream",
     "text": [
      "0.47 % percent of connections are mode\n"
     ]
    }
   ],
   "source": [
    "percent = round((edges_num/(edges_num + edges_not_connected))* 100, 2)\n",
    "print(percentent, '% percent of connections are mode')"
   ]
  },
  {
   "cell_type": "code",
   "execution_count": null,
   "metadata": {},
   "outputs": [],
   "source": []
  },
  {
   "cell_type": "markdown",
   "metadata": {},
   "source": [
    "<b> Degree Distribution <br> </b>\n",
    "Degree is the number of edges that a node can have. The amount of edges is a way to note the amount of connections a node has. We can see how many nodes have a certain amout of degrees."
   ]
  },
  {
   "cell_type": "code",
   "execution_count": 27,
   "metadata": {},
   "outputs": [
    {
     "data": {
      "image/png": "[encoded data removed]",
      "text/plain": [
       "<Figure size 720x360 with 1 Axes>"
      ]
     },
     "metadata": {
      "needs_background": "light"
     },
     "output_type": "display_data"
    }
   ],
   "source": [
    "deg = dict(nx.degree(insta_nx))\n",
    "x, y = zip(*Counter(deg.values()).items())\n",
    "\n",
    "plt.figure(figsize=(10,5))\n",
    "plt.scatter(x, y, s=7, c=\"pink\")\n",
    "plt.xscale(\"log\")\n",
    "#plt.yscale(\"log\")\n",
    "plt.xlim(0.9, max(x))\n",
    "plt.ylim(0.9, max(y))\n",
    "plt.xlabel(\"Degree\")\n",
    "plt.ylabel(\"Frequency\")\n",
    "plt.title('Node Degree Distribution', size = 17)\n",
    "plt.show()"
   ]
  },
  {
   "cell_type": "code",
   "execution_count": null,
   "metadata": {},
   "outputs": [],
   "source": []
  },
  {
   "cell_type": "markdown",
   "metadata": {},
   "source": [
    "<b> Assortativity </b> <br>\n",
    "\n",
    "How correlated are the departments by nodes connected?"
   ]
  },
  {
   "cell_type": "code",
   "execution_count": 34,
   "metadata": {},
   "outputs": [
    {
     "data": {
      "text/plain": [
       "0.031825156204505954"
      ]
     },
     "execution_count": 34,
     "metadata": {},
     "output_type": "execute_result"
    }
   ],
   "source": [
    "nx.attribute_assortativity_coefficient(insta_nx, \"department\")"
   ]
  },
  {
   "cell_type": "markdown",
   "metadata": {},
   "source": [
    "The departments are slightly if at all connected"
   ]
  },
  {
   "cell_type": "code",
   "execution_count": null,
   "metadata": {},
   "outputs": [],
   "source": []
  },
  {
   "cell_type": "markdown",
   "metadata": {},
   "source": [
    "<b> Attribute Assortavility Matrix </b> <br>\n",
    "\n",
    "We can see how correlated the department are to one another. Meaning how likely are they to be connected. "
   ]
  },
  {
   "cell_type": "code",
   "execution_count": 29,
   "metadata": {},
   "outputs": [],
   "source": [
    "department = {val:i for i,val in enumerate(reorder_df.department.unique())}\n",
    "\n",
    "\n",
    "attribute_matrix_by_department = pd.DataFrame(nx.attribute_mixing_matrix(insta_nx, \n",
    "                                        \"department\",\n",
    "                                       mapping = department),\n",
    "                                        columns = department.keys(),\n",
    "                                        index = department.keys())"
   ]
  },
  {
   "cell_type": "code",
   "execution_count": 36,
   "metadata": {},
   "outputs": [
    {
     "data": {
      "image/png": "[encoded data removed]",
      "text/plain": [
       "<Figure size 864x504 with 2 Axes>"
      ]
     },
     "metadata": {
      "needs_background": "light"
     },
     "output_type": "display_data"
    }
   ],
   "source": [
    "plt.figure(figsize=(12,7))\n",
    "sns.heatmap(round(attribute_matrix_by_department, 2),cmap=\"BuPu\", annot= True)\n",
    "plt.title('Assortability Matrix by Department', size = 17)\n",
    "plt.show()"
   ]
  },
  {
   "cell_type": "markdown",
   "metadata": {},
   "source": [
    "- Most of the correlation between departments comes from produce being bought together with other producte\n",
    "- Then there is a slight positive correlation with produce and snacks, beverages, dairy eggs, and frozen"
   ]
  },
  {
   "cell_type": "code",
   "execution_count": null,
   "metadata": {},
   "outputs": [],
   "source": []
  },
  {
   "cell_type": "markdown",
   "metadata": {},
   "source": [
    "<b> Graph Visualization With Top 6 Nodes </b> <br>\n",
    "\n",
    "Graphing top 6 departments and how they relate to one another."
   ]
  },
  {
   "cell_type": "code",
   "execution_count": 137,
   "metadata": {},
   "outputs": [],
   "source": [
    "dpt_products_by_order = reorder_df[reorder_df.reordered == 1].groupby('order_id')['department'].apply(list)\n",
    "dpt_product_combinations = [[set(comb) for comb in combinations(i, 2)] for i in dpt_products_by_order]\n",
    "dpt_joint_combinations = ['|'.join(sorted(list(item))) for sublist in dpt_product_combinations for item in sublist]\n",
    "dpt_product_combinations = Counter(dpt_joint_combinations)\n",
    "\n",
    "dpt_nodes = [item for sublist in [i.split('|') for i in dpt_product_combinations.keys()] for item in sublist]\n",
    "insta_department_nx = nx.Graph()\n",
    "\n",
    "# nodes\n",
    "insta_department_nx.add_nodes_from(dpt_nodes)\n",
    "\n",
    "# edges \n",
    "insta_department_nx.add_edges_from([set(i.split('|')) for i in list(set(dpt_product_combinations.keys())) if len(i.split('|')) > 1])\n",
    "\n",
    "#weights\n",
    "for i in dpt_product_combinations:\n",
    "    \n",
    "    if len(i.split('|')) > 1:\n",
    "        first,second = i.split('|')\n",
    "        insta_department_nx[first][second]['weight'] = dpt_product_combinations[i]"
   ]
  },
  {
   "cell_type": "code",
   "execution_count": 141,
   "metadata": {},
   "outputs": [
    {
     "data": {
      "text/plain": [
       "[('produce', 195347),\n",
       " ('dairy eggs|produce', 177065),\n",
       " ('produce|snacks', 71400),\n",
       " ('dairy eggs', 64378),\n",
       " ('beverages|produce', 62777)]"
      ]
     },
     "execution_count": 141,
     "metadata": {},
     "output_type": "execute_result"
    }
   ],
   "source": [
    "dpt_product_combinations.most_common(5)"
   ]
  },
  {
   "cell_type": "code",
   "execution_count": 181,
   "metadata": {},
   "outputs": [
    {
     "data": {
      "image/png": "[encoded data removed]",
      "text/plain": [
       "<Figure size 720x504 with 1 Axes>"
      ]
     },
     "metadata": {},
     "output_type": "display_data"
    }
   ],
   "source": [
    "sub_nx = nx.subgraph(insta_department_nx, reorder_df.department.value_counts().index[:6])\n",
    "\n",
    "plt.figure(figsize=(10,7))\n",
    "\n",
    "pos = nx.circular_layout(sub_nx)\n",
    "nx.draw_networkx(sub_nx, pos,node_size = [1000 for i in range(6)])\n",
    "\n",
    "for edge in sub_nx.edges(data='weight'):\n",
    "    nx.draw_networkx_edges(sub_nx, pos, edgelist=[edge], width=edge[2] * .0001)\n",
    "    \n",
    "plt.title('Degree Weight for Top 5 Depts', size = 25)\n",
    "plt.show()"
   ]
  },
  {
   "cell_type": "code",
   "execution_count": null,
   "metadata": {},
   "outputs": [],
   "source": []
  },
  {
   "cell_type": "markdown",
   "metadata": {},
   "source": [
    "- Dairy Eggs & Produce have the strongest connection\n",
    "- Produce is the most well connected department"
   ]
  },
  {
   "cell_type": "code",
   "execution_count": null,
   "metadata": {},
   "outputs": [],
   "source": []
  },
  {
   "cell_type": "markdown",
   "metadata": {},
   "source": [
    "<b> Most Connected Product </b>\n",
    "\n",
    "New we can see which product is most connected. This can be done by the number of degrees that the node has."
   ]
  },
  {
   "cell_type": "code",
   "execution_count": 37,
   "metadata": {},
   "outputs": [],
   "source": [
    "dgr = nx.degree_centrality(insta_nx)"
   ]
  },
  {
   "cell_type": "code",
   "execution_count": 39,
   "metadata": {},
   "outputs": [
    {
     "data": {
      "text/plain": [
       "[('Banana', 0.46984034551366044),\n",
       " ('Bag of Organic Bananas', 0.3646333770078129),\n",
       " ('Organic Strawberries', 0.2765565099238123),\n",
       " ('Organic Hass Avocado', 0.26029989809288107),\n",
       " ('Organic Baby Spinach', 0.2504488765953317),\n",
       " ('Organic Avocado', 0.22929101761537343),\n",
       " ('Strawberries', 0.22458387926432766),\n",
       " ('Organic Raspberries', 0.21919736012034746),\n",
       " ('Large Lemon', 0.2150725481632455),\n",
       " ('Limes', 0.19760275634493135)]"
      ]
     },
     "execution_count": 39,
     "metadata": {},
     "output_type": "execute_result"
    }
   ],
   "source": [
    "sorted(dgr.items(), key = lambda x: x[1], reverse = True)[:10]"
   ]
  },
  {
   "cell_type": "markdown",
   "metadata": {},
   "source": [
    "- The most connected product by degrees is banana and bag of organic bananas\n",
    "- Bananas is connected to 46% of all the products\n",
    "- Bag of Organic Bananas is bought with 36% of the products"
   ]
  },
  {
   "cell_type": "code",
   "execution_count": null,
   "metadata": {},
   "outputs": [],
   "source": []
  },
  {
   "cell_type": "markdown",
   "metadata": {},
   "source": [
    "### C. Exploring Bananas \n",
    "\n",
    "It would be useful to explore banana's influence in the size of the orders and the average time since the last order. \n",
    "\n",
    "Are bananas linked to people buying more products per order?"
   ]
  },
  {
   "cell_type": "code",
   "execution_count": 43,
   "metadata": {},
   "outputs": [],
   "source": [
    "banana_order_id = reorder_df[reorder_df.product_name.isin(('Banana', 'Bag of Organic Bananas'))].order_id.unique()"
   ]
  },
  {
   "cell_type": "code",
   "execution_count": 100,
   "metadata": {},
   "outputs": [
    {
     "data": {
      "image/png": "[encoded data removed]",
      "text/plain": [
       "<Figure size 1440x432 with 2 Axes>"
      ]
     },
     "metadata": {
      "needs_background": "light"
     },
     "output_type": "display_data"
    }
   ],
   "source": [
    "fig, ax = plt.subplots(ncols=2, figsize=(20,6))\n",
    "\n",
    "\n",
    "banana_size = reorder_df[reorder_df.order_id.isin(banana_order_id)].groupby('order_id').count().product_name\n",
    "ax[0].hist(banana_size)\n",
    "ax[0].set_title('Order Size With Bananas', fontsize = 25)\n",
    "ax[0].set_ylabel('Count', fontsize = 20)\n",
    "ax[0].set_xlabel('Order Size', fontsize = 15)\n",
    "ax[0].text(0.1,-0.3, f\"Average Order Size: {round(banana_size.mean(),2)}\", size=17, \n",
    "         transform=ax[0].transAxes)\n",
    "\n",
    "avg_days_since = round(reorder_df[reorder_df.order_id.isin(banana_order_id)].days_since_prior_order.mean(), 2)\n",
    "ax[0].text(0.1,-0.38, f\"Average Days Since: {avg_days_since}\", size=17,\n",
    "         transform=ax[0].transAxes)\n",
    "\n",
    "\n",
    "\n",
    "non_banana_size = reorder_df[-reorder_df.order_id.isin(banana_order_id)].groupby('order_id').count().product_name\n",
    "ax[1].hist(non_banana_size, color = 'grey')\n",
    "ax[1].set_title('Order Size Without Bananas', fontsize = 25)\n",
    "ax[1].set_ylabel('Count', fontsize = 20)\n",
    "ax[1].set_xlabel('Order Size', fontsize = 15)\n",
    "ax[1].text(0.1,-0.3, f\"Average Order Size: {round(non_banana_size.mean(), 2)}\", size=17,\n",
    "         transform=ax[1].transAxes)\n",
    "\n",
    "avg_days_since = round(reorder_df[-reorder_df.order_id.isin(banana_order_id)].days_since_prior_order.mean(), 2)\n",
    "ax[1].text(0.1,-0.38, f\"Average Days Since: {avg_days_since}\", size=17, \n",
    "         transform=ax[1].transAxes)\n",
    "plt.show()"
   ]
  },
  {
   "cell_type": "markdown",
   "metadata": {},
   "source": [
    "- The order size is larger for orders with bananas with an average of ~14 prouducs compared with ~9 products for non bananas\n",
    "- The average days are similar, this may be due to it being a sample of the data"
   ]
  },
  {
   "cell_type": "markdown",
   "metadata": {},
   "source": [
    "Are the average order results statistically significant? <br>\n",
    "We can check this with an independent sample t test and we will look for 95% confidence"
   ]
  },
  {
   "cell_type": "code",
   "execution_count": 101,
   "metadata": {},
   "outputs": [
    {
     "data": {
      "text/plain": [
       "Ttest_indResult(statistic=-60.18785645101232, pvalue=0.0)"
      ]
     },
     "execution_count": 101,
     "metadata": {},
     "output_type": "execute_result"
    }
   ],
   "source": [
    "stats.ttest_ind(non_banana_size, banana_size, equal_var=False)"
   ]
  },
  {
   "cell_type": "markdown",
   "metadata": {},
   "source": [
    "Our p-values is less than .05 so it is significant"
   ]
  },
  {
   "cell_type": "code",
   "execution_count": null,
   "metadata": {},
   "outputs": [],
   "source": []
  },
  {
   "cell_type": "markdown",
   "metadata": {},
   "source": [
    "<b> Share of Sales That Have Bananas</b> <br>\n"
   ]
  },
  {
   "cell_type": "code",
   "execution_count": 168,
   "metadata": {},
   "outputs": [
    {
     "name": "stdout",
     "output_type": "stream",
     "text": [
      "27.98 % of all orders have bananas in them\n",
      "31.06 % of all orders have bananas in them\n"
     ]
    }
   ],
   "source": [
    "banana_orders = reorder_df[reorder_df.order_id.isin(banana_order_id)].order_id.nunique()\n",
    "total_orders = reorder_df.order_id.nunique()\n",
    "\n",
    "banana_users = reorder_df[reorder_df.order_id.isin(banana_order_id)].user_id.nunique()\n",
    "total_users = reorder_df.user_id.nunique()\n",
    "\n",
    "\n",
    "print(round(banana_orders/total_orders*100, 2), '% of all orders have bananas in them')\n",
    "print(round(banana_users/total_users*100, 2), '% of all users have bananas in them')"
   ]
  },
  {
   "cell_type": "code",
   "execution_count": null,
   "metadata": {},
   "outputs": [],
   "source": []
  },
  {
   "cell_type": "markdown",
   "metadata": {},
   "source": [
    "<b> Share of Sales that Are Produce\n"
   ]
  },
  {
   "cell_type": "code",
   "execution_count": 170,
   "metadata": {},
   "outputs": [
    {
     "name": "stdout",
     "output_type": "stream",
     "text": [
      "76.45 % of all orders have produce in them\n",
      "79.02 % of all orders have produce in them\n"
     ]
    }
   ],
   "source": [
    "produce_order_id = reorder_df.query(\"department == 'produce'\").order_id.unique()\n",
    "\n",
    "produce_orders = reorder_df[reorder_df.order_id.isin(produce_order_id)].order_id.nunique()\n",
    "produce_users = reorder_df[reorder_df.order_id.isin(produce_order_id)].user_id.nunique()\n",
    "\n",
    "print(round(produce_orders/total_orders*100, 2), '% of all orders have produce in them')\n",
    "print(round(produce_users/total_users*100, 2), '% of all orders have produce in them')"
   ]
  },
  {
   "cell_type": "code",
   "execution_count": null,
   "metadata": {},
   "outputs": [],
   "source": []
  },
  {
   "cell_type": "markdown",
   "metadata": {},
   "source": [
    "### Takeaways, Recommendations, Next Steps\n",
    "--- \n",
    "\n",
    "<b>Takeaways</b> <br>\n",
    "- Instacart repeat users buy mostly produce, with 76% of all orders having produce is them\n",
    "- Looking at products, Bananas both single or in bag are the most well connected products by the number of degrees. Bananas alone connect with 40% of all other products.\n",
    "- Looking at products that are bought together by department, produce is most bought with itself and with egg dairy\n",
    "- 79% of all users bought bananas and they have higher order size (~13 products per order) than users that did not buy bananas (~9 products per order)\n",
    "\n",
    "<b>Recommendations</b> <br>\n",
    "- For new users, the advantages of buying produce from Instacart can be displayed in ads or in the app as first recommended.\n",
    "- For current users to stay in the platform, the price sensitivity of produce have to be kept into account. Produce is the reason they stay and buy other products.\n",
    "- Realize the importance of bananas in the Instacart platform in order to run promotions or keep the price low.\n",
    "\n",
    "<b>Next Steps</b> <br>\n",
    "- Get prices for each product in order to see which departments earn more money\n",
    "- Get more data to compare new customers vs returning customers, most data here was returning customers"
   ]
  },
  {
   "cell_type": "code",
   "execution_count": null,
   "metadata": {},
   "outputs": [],
   "source": []
  }
 ],
 "metadata": {
  "kernelspec": {
   "display_name": "Python 3",
   "language": "python",
   "name": "python3"
  },
  "language_info": {
   "codemirror_mode": {
    "name": "ipython",
    "version": 3
   },
   "file_extension": ".py",
   "mimetype": "text/x-python",
   "name": "python",
   "nbconvert_exporter": "python",
   "pygments_lexer": "ipython3",
   "version": "3.7.7"
  }
 },
 "nbformat": 4,
 "nbformat_minor": 4
}
